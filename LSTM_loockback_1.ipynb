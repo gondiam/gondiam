{
  "nbformat": 4,
  "nbformat_minor": 0,
  "metadata": {
    "colab": {
      "name": "LSTM_loockback_1.ipynb",
      "provenance": [],
      "authorship_tag": "ABX9TyNfKhDSza6xErwp21mIjS9P"
    },
    "kernelspec": {
      "name": "python3",
      "display_name": "Python 3"
    },
    "language_info": {
      "name": "python"
    }
  },
  "cells": [
    {
      "cell_type": "code",
      "execution_count": 1,
      "metadata": {
        "id": "znMpXjwZQ9LZ"
      },
      "outputs": [],
      "source": [
        "#We are going to use a LSTM neural netowrk to perform a forecast into the Ethereum cryptocurrency with the data of the last 7 days"
      ]
    },
    {
      "cell_type": "code",
      "source": [
        "#Import of libraries\n",
        "import numpy as np\n",
        "import matplotlib.pyplot as plt\n",
        "import pandas as pd\n",
        "import math\n",
        "import keras\n",
        "#Note the pip you have to run just once\n",
        "#!pip install yfinance \n",
        "import yfinance as yf\n",
        "from keras.models import Sequential\n",
        "from keras.layers import Dense\n",
        "from keras.layers import LSTM\n",
        "from sklearn.preprocessing import MinMaxScaler\n",
        "from sklearn.metrics import mean_squared_error"
      ],
      "metadata": {
        "id": "p4SYGtLlRIOw"
      },
      "execution_count": 4,
      "outputs": []
    },
    {
      "cell_type": "code",
      "source": [
        "#Data from yfinance of ETHEREUM the last 7 days per minute\n",
        "df = yf.download(tickers=\"ETC-EUR\",period= '7d' ,interval='1m')\n",
        "print(df.head())\n",
        "Open = df['Open']"
      ],
      "metadata": {
        "colab": {
          "base_uri": "https://localhost:8080/"
        },
        "id": "rNwchagsRLlm",
        "outputId": "3ec5476c-ae66-4416-dadb-8c426eea0225"
      },
      "execution_count": 7,
      "outputs": [
        {
          "output_type": "stream",
          "name": "stdout",
          "text": [
            "\r[*********************100%***********************]  1 of 1 completed\n",
            "                                Open       High        Low      Close  \\\n",
            "Datetime                                                                \n",
            "2022-04-15 00:00:00+00:00  34.260773  34.260773  34.260773  34.260773   \n",
            "2022-04-15 00:01:00+00:00  34.264359  34.264359  34.264359  34.264359   \n",
            "2022-04-15 00:02:00+00:00  34.251659  34.251659  34.251659  34.251659   \n",
            "2022-04-15 00:03:00+00:00  34.257442  34.257442  34.257442  34.257442   \n",
            "2022-04-15 00:04:00+00:00  34.285870  34.285870  34.285870  34.285870   \n",
            "\n",
            "                           Adj Close  Volume  \n",
            "Datetime                                      \n",
            "2022-04-15 00:00:00+00:00  34.260773       0  \n",
            "2022-04-15 00:01:00+00:00  34.264359  825056  \n",
            "2022-04-15 00:02:00+00:00  34.251659       0  \n",
            "2022-04-15 00:03:00+00:00  34.257442   15520  \n",
            "2022-04-15 00:04:00+00:00  34.285870       0  \n"
          ]
        }
      ]
    },
    {
      "cell_type": "code",
      "source": [
        "# normalize the dataset\n",
        "scaler = MinMaxScaler(feature_range=(0, 1))\n",
        "\n",
        "Open = Open.to_numpy()\n",
        "Open = Open[:,np.newaxis]\n",
        "Open= scaler.fit_transform(Open)\n",
        "Open\n",
        "dataset = Open\n"
      ],
      "metadata": {
        "id": "CWxjaZd4RZnF"
      },
      "execution_count": 6,
      "outputs": []
    },
    {
      "cell_type": "code",
      "source": [
        "#train/test\n",
        "train_size = int(len(dataset) * 0.9)\n",
        "test_size = len(dataset) - train_size\n",
        "train, test = dataset[0:train_size,:], dataset[train_size:len(dataset),:]\n",
        "print(\"Train:\",len(train),\" Test: \", len(test))"
      ],
      "metadata": {
        "colab": {
          "base_uri": "https://localhost:8080/"
        },
        "id": "NEbjj4iLRbG1",
        "outputId": "fc0ee40d-a32e-4e57-cf5d-616529fb1b06"
      },
      "execution_count": 9,
      "outputs": [
        {
          "output_type": "stream",
          "name": "stdout",
          "text": [
            "Train: 8460  Test:  940\n"
          ]
        }
      ]
    },
    {
      "cell_type": "code",
      "source": [
        "# convert an array of values into a dataset matrix\n",
        "def create_dataset(dataset, look_back=1):\n",
        "\tdataX, dataY = [], []\n",
        "\tfor i in range(len(dataset)-look_back-1):\n",
        "\t\ta = dataset[i:(i+look_back), 0]\n",
        "\t\tdataX.append(a)\n",
        "\t\tdataY.append(dataset[i + look_back, 0])\n",
        "\treturn np.array(dataX), np.array(dataY)"
      ],
      "metadata": {
        "id": "IOK7MahCRhqG"
      },
      "execution_count": 10,
      "outputs": []
    },
    {
      "cell_type": "code",
      "source": [
        "# reshape into X=t and Y=t+1\n",
        "look_back = 20\n",
        "trainX, trainY = create_dataset(train, look_back)\n",
        "testX, testY = create_dataset(test, look_back)\n",
        "print(\"train shape is: \",train.shape)\n",
        "print(\"test shape is: \",test.shape)"
      ],
      "metadata": {
        "colab": {
          "base_uri": "https://localhost:8080/"
        },
        "id": "rp56NJKpRqz1",
        "outputId": "e62d6e3a-d921-40b2-fdc7-f2f39a699a49"
      },
      "execution_count": 17,
      "outputs": [
        {
          "output_type": "stream",
          "name": "stdout",
          "text": [
            "train shape is:  (8460, 1)\n",
            "test shape is:  (940, 1)\n"
          ]
        }
      ]
    },
    {
      "cell_type": "code",
      "source": [
        "# reshape input to be [samples, time steps, features]\n",
        "trainX = np.reshape(trainX, (trainX.shape[0], 1, trainX.shape[1]))\n",
        "testX = np.reshape(testX, (testX.shape[0], 1, testX.shape[1]))"
      ],
      "metadata": {
        "id": "pqI-yyNERse3"
      },
      "execution_count": 18,
      "outputs": []
    },
    {
      "cell_type": "code",
      "source": [
        "# create and fit the LSTM neural network\n",
        "model = Sequential()\n",
        "model.add(LSTM(4, input_shape=(1, look_back)))\n",
        "model.add(Dense(1))\n",
        "model.compile(loss='mean_squared_error', optimizer='adam')\n",
        "model.fit(trainX, trainY, epochs=1, batch_size=look_back, verbose=1)\n",
        "print (model.summary())\n"
      ],
      "metadata": {
        "colab": {
          "base_uri": "https://localhost:8080/"
        },
        "id": "CMy1jZJHRuY9",
        "outputId": "aa5a6aa6-621e-499c-987c-5b385118bbf8"
      },
      "execution_count": 19,
      "outputs": [
        {
          "output_type": "stream",
          "name": "stdout",
          "text": [
            "422/422 [==============================] - 3s 2ms/step - loss: 0.0097\n",
            "Model: \"sequential_2\"\n",
            "_________________________________________________________________\n",
            " Layer (type)                Output Shape              Param #   \n",
            "=================================================================\n",
            " lstm_2 (LSTM)               (None, 4)                 400       \n",
            "                                                                 \n",
            " dense_2 (Dense)             (None, 1)                 5         \n",
            "                                                                 \n",
            "=================================================================\n",
            "Total params: 405\n",
            "Trainable params: 405\n",
            "Non-trainable params: 0\n",
            "_________________________________________________________________\n",
            "None\n"
          ]
        }
      ]
    },
    {
      "cell_type": "code",
      "source": [
        "# make predictions\n",
        "trainPredict = model.predict(trainX)\n",
        "testPredict = model.predict(testX)\n",
        "# invert predictions\n",
        "trainPredict = scaler.inverse_transform(trainPredict)\n",
        "trainY = scaler.inverse_transform([trainY])\n",
        "testPredict = scaler.inverse_transform(testPredict)\n",
        "testY = scaler.inverse_transform([testY])\n",
        "# calculate root mean squared error\n",
        "trainScore = math.sqrt(mean_squared_error(trainY[0], trainPredict[:,0]))\n",
        "print('Train Score: %.2f RMSE' % (trainScore))\n",
        "testScore = math.sqrt(mean_squared_error(testY[0], testPredict[:,0]))\n",
        "print('Test Score: %.2f RMSE' % (testScore))"
      ],
      "metadata": {
        "colab": {
          "base_uri": "https://localhost:8080/"
        },
        "id": "l1AomwO3RxE9",
        "outputId": "624c3993-2d88-41c5-f6a8-29234f230eb2"
      },
      "execution_count": 20,
      "outputs": [
        {
          "output_type": "stream",
          "name": "stdout",
          "text": [
            "Train Score: 0.09 RMSE\n",
            "Test Score: 0.08 RMSE\n"
          ]
        }
      ]
    },
    {
      "cell_type": "code",
      "source": [
        "#showing the original dataset in blue,\n",
        "#the predictions for the training dataset in green,\n",
        "#and the predictions on the unseen test dataset in red.\n",
        "# shift train predictions for plotting\n",
        "trainPredictPlot = np.empty_like(dataset)\n",
        "trainPredictPlot[:, :] = np.nan\n",
        "trainPredictPlot[look_back:len(trainPredict)+look_back, :] = trainPredict\n",
        "# shift test predictions for plotting\n",
        "testPredictPlot = np.empty_like(dataset)\n",
        "testPredictPlot[:, :] = np.nan\n",
        "testPredictPlot[len(trainPredict)+(look_back*2)+1:len(dataset)-1, :] = testPredict\n",
        "# plot baseline and predictions\n",
        "plt.title(\"Evolution of Ethereum of the last week\")\n",
        "plt.plot(scaler.inverse_transform(dataset),label=\"Original data\")\n",
        "plt.plot(trainPredictPlot,label=\"Prediction of the training data\")\n",
        "plt.plot(testPredictPlot,label=\"Prediction of the test data\")\n",
        "plt.legend()\n",
        "plt.show()"
      ],
      "metadata": {
        "colab": {
          "base_uri": "https://localhost:8080/",
          "height": 281
        },
        "id": "AFZEjCsGR4wf",
        "outputId": "154f287d-9932-477f-8372-902a548dd447"
      },
      "execution_count": 21,
      "outputs": [
        {
          "output_type": "display_data",
          "data": {
            "text/plain": [
              "<Figure size 432x288 with 1 Axes>"
            ],
            "image/png": "[encoded data removed]"
          },
          "metadata": {
            "needs_background": "light"
          }
        }
      ]
    },
    {
      "cell_type": "code",
      "source": [
        ""
      ],
      "metadata": {
        "id": "-trKWSnhR691"
      },
      "execution_count": null,
      "outputs": []
    }
  ]
}